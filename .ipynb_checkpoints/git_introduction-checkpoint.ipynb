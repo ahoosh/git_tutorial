{
 "cells": [
  {
   "cell_type": "code",
   "execution_count": null,
   "metadata": {
    "collapsed": true
   },
   "outputs": [],
   "source": []
  },
  {
   "cell_type": "code",
   "execution_count": 1,
   "metadata": {
    "collapsed": false
   },
   "outputs": [
    {
     "data": {
      "text/html": [
       "<style> code {background-color : lightgrey !important;} </style>"
      ],
      "text/plain": [
       "<IPython.core.display.HTML object>"
      ]
     },
     "metadata": {},
     "output_type": "display_data"
    }
   ],
   "source": [
    "%%HTML\n",
    "<style> code {background-color : lightgrey !important;} </style>"
   ]
  },
  {
   "cell_type": "markdown",
   "metadata": {},
   "source": [
    "# End of Session 5, Lecture 31 - Go to 32"
   ]
  },
  {
   "cell_type": "markdown",
   "metadata": {},
   "source": [
    "Three + one stages of git:\n",
    "\n",
    "1) Working directory\n",
    "\n",
    "2) Staging area: A holding area of the next commit, files can be moved in an out\n",
    "\n",
    "3) Repository (.git folder)\n",
    "\n",
    "4) Remote Repository\n",
    "\n",
    "-- Master branch"
   ]
  },
  {
   "cell_type": "markdown",
   "metadata": {},
   "source": [
    "**Checking git version:** ```git version```"
   ]
  },
  {
   "cell_type": "markdown",
   "metadata": {},
   "source": [
    "**Naming Repos:** For get repo names, use `-` in between words, not `_`"
   ]
  },
  {
   "cell_type": "markdown",
   "metadata": {},
   "source": [
    "**Setting git user name:** `git config --global user.name \"Abbas Hooshmand\"`"
   ]
  },
  {
   "cell_type": "markdown",
   "metadata": {},
   "source": [
    "**Setting git email:** `git config --global user.email \"abbas.hooshamnd@gmail.com\"`"
   ]
  },
  {
   "cell_type": "markdown",
   "metadata": {},
   "source": [
    "**Checking git global information:** `git config -- global --list`"
   ]
  },
  {
   "cell_type": "markdown",
   "metadata": {},
   "source": [
    "**Cloning a repository:** `git clone https://github.com/username/reponame`"
   ]
  },
  {
   "cell_type": "markdown",
   "metadata": {},
   "source": [
    "**Checking the status:** `git status`"
   ]
  },
  {
   "cell_type": "markdown",
   "metadata": {},
   "source": [
    "**Writing a text file in terminal:** `echo \"Test Git Quick Start demo\" >> start.txt`"
   ]
  },
  {
   "cell_type": "markdown",
   "metadata": {},
   "source": [
    "**Checking the text file:** `cat start.txt`"
   ]
  },
  {
   "cell_type": "markdown",
   "metadata": {},
   "source": [
    "**Adding a file to stage:** `git add start.txt`"
   ]
  },
  {
   "cell_type": "markdown",
   "metadata": {},
   "source": [
    "**Commiting a file:** `git commit -m \"First commit\"`"
   ]
  },
  {
   "cell_type": "markdown",
   "metadata": {},
   "source": [
    "**Pushing the file:** `git push origin master`"
   ]
  },
  {
   "cell_type": "code",
   "execution_count": null,
   "metadata": {
    "collapsed": true
   },
   "outputs": [],
   "source": []
  },
  {
   "cell_type": "markdown",
   "metadata": {},
   "source": [
    "**Showing the path:** `pwd`"
   ]
  },
  {
   "cell_type": "markdown",
   "metadata": {},
   "source": [
    "**Starting a git repo:** `git init fresh-project`"
   ]
  },
  {
   "cell_type": "markdown",
   "metadata": {},
   "source": [
    "**Show a list of stuff including hidden:** `ls -al`"
   ]
  },
  {
   "cell_type": "markdown",
   "metadata": {},
   "source": [
    "**Commiting with opening in a text editor:** `git commit`\n",
    "*You should put a text edtior as yur primary git text editor already. notepad++ for Windows, text mate 2 for mac*\n"
   ]
  },
  {
   "cell_type": "markdown",
   "metadata": {},
   "source": [
    "**Removing the whole project** `rm -rf fresh-project/`"
   ]
  },
  {
   "cell_type": "markdown",
   "metadata": {},
   "source": [
    "## Adding git to existing project"
   ]
  },
  {
   "cell_type": "markdown",
   "metadata": {},
   "source": [
    "First, move the downlaoded project folder to your destination:\n",
    "\n",
    "**Moving the target folder to somewhere else** `mv web-project OneDrive\\ -\\ Cummins/web-project`\n",
    "\n",
    "Then do a `git init` to make the git repo. Get `git status`. Use `git add .` to add all the files to the staging area. To commit, use `git commit -m \"my first commit, inline\"`. Clean up after yourself with `rm -rf web-project` after going one level up with `cd ..`"
   ]
  },
  {
   "cell_type": "markdown",
   "metadata": {},
   "source": [
    "Always do a `pull` before pushing stuff. Do a pull\n",
    "\n",
    "`git pull origin master`\n",
    "\n",
    "and then push\n",
    "\n",
    "`git push origin master`"
   ]
  },
  {
   "cell_type": "markdown",
   "metadata": {},
   "source": [
    "You can change git config with: `npp ~/.gitconfig` ditrectly in ntoepad++"
   ]
  },
  {
   "cell_type": "markdown",
   "metadata": {},
   "source": [
    "You can combine add and commit with `git commit -am \"Adding more ipsum text\"` This can be done on files that aleady are added. When you make a new file, you must add it one time and after that you can use this procedure."
   ]
  },
  {
   "cell_type": "markdown",
   "metadata": {},
   "source": [
    "**To detect what files git is following:** `git ls-files`"
   ]
  },
  {
   "cell_type": "markdown",
   "metadata": {},
   "source": [
    "**To unstage a file:** `git reset HEAD level1-file.txt`\n",
    "\n",
    "Then in order go back to the last commit and restore the file:\n",
    "\n",
    "**Restoring\"** `git reset HEAD level1-file.txt`"
   ]
  },
  {
   "cell_type": "markdown",
   "metadata": {},
   "source": [
    "# How to rename a file?\n",
    "\n",
    "`git mv level3-file.txt  level3.txt`\n",
    "\n",
    "Then commit it:\n",
    "\n",
    "`git commit -m \"renaming level3 file\"`\n",
    "\n",
    "If you want to rename the file outside git, after renaming it, add it using `A`:\n",
    "\n",
    "` git add -A` so that git recognizes the renaming, rather than deleting and making a new file with a different name. Also, you can use `git add level1.txt` and then `git add -u` for specifically doing the rename (If you used windows explorer or finder to rename files, other files might be generated taht you are not interested to keep track of)\n",
    "\n",
    "Finally, commit.\n",
    "\n"
   ]
  },
  {
   "cell_type": "markdown",
   "metadata": {},
   "source": [
    "# Moving a File\n",
    "\n",
    "In order to move a file with git:\n",
    "\n",
    "` git mv level2.txt level3`\n",
    "\n",
    "moves the file from level2 folder to level3 folder. You can directly commit after this without adding"
   ]
  },
  {
   "cell_type": "markdown",
   "metadata": {
    "collapsed": true
   },
   "source": [
    "# Removing a file\n",
    "\n",
    "**Removing a file:** `git rm newfile.txt`\n",
    "\n",
    "**Commiting the remove:** `git commit -m \"removed the file\"`\n",
    "\n",
    "**Restoring the staged deleted file:** `git reset HEAD hipster.txt`\n",
    "\n",
    "**We have to checkout to actually restore the file:** `git checkout -- hipster.txt`\n",
    "\n",
    "If you delete a file outside git with `rm hipster.txt`, then you should:\n",
    "\n",
    "`git add -A` to stage the delete and then `git commit -m \"Deleted it\"`"
   ]
  },
  {
   "cell_type": "markdown",
   "metadata": {
    "collapsed": true
   },
   "source": [
    "# Git Logs\n",
    "\n",
    "You can exist with pressing **Q** after any of these commands\n",
    "\n",
    "**Seeing the help:** `git help log`\n",
    "\n",
    "**See the log:** `git log`\n",
    "\n",
    "**See the log abbreviated:** `git log -abbrev-commit`\n",
    "\n",
    "**See the logs pretty:** `git log --oneline --graph --decorate`\n",
    "\n",
    "**See selected commits:** `git log e7105d3...7a9053b`\n",
    "\n",
    "**Date based searching:** `git log --since=\"3 days ago\"`\n",
    "\n",
    "**Seeing the logs for a specific file:** `git log -- hipster.txt\"`\n",
    "\n",
    "**Seeing details of a specific commit:** `19fe499e5684660590129cb654a73b88857c2d80`\n",
    "\n",
    "**Very nice log summary:** `git log --all --graph --decorate --oneline`"
   ]
  },
  {
   "cell_type": "markdown",
   "metadata": {},
   "source": [
    "# Making Alias commands for git\n",
    "\n",
    "**Making the coomand:** `git config --global alias.hist \"log --all --graph --decorate --oneline\"`\n",
    "\n",
    "Then use `git hist`\n",
    "\n",
    "**To see all the alias commands:** `npp ~/.gitconfig` or in mac `mate ~/.gitconfig`"
   ]
  },
  {
   "cell_type": "markdown",
   "metadata": {},
   "source": [
    "# Not tracking certain files in git\n",
    "\n",
    "We can tell git not to track certain files or folders. We need to add a `.gitignore` file and add the files names (myfile.txt), maybe the file format (star.jpg) or folder (my-folder/) to the file\n",
    "\n",
    "**Open the file for the first time:** `npp .gitignore`\n",
    "\n",
    "Inside such a file:\n",
    "\n",
    "[star].png\n",
    "\n",
    "test.txt\n",
    "\n",
    "outputs/\n",
    "\n",
    "logs/"
   ]
  },
  {
   "cell_type": "code",
   "execution_count": null,
   "metadata": {
    "collapsed": true
   },
   "outputs": [],
   "source": []
  }
 ],
 "metadata": {
  "anaconda-cloud": {},
  "kernelspec": {
   "display_name": "Python [conda root]",
   "language": "python",
   "name": "conda-root-py"
  },
  "language_info": {
   "codemirror_mode": {
    "name": "ipython",
    "version": 3
   },
   "file_extension": ".py",
   "mimetype": "text/x-python",
   "name": "python",
   "nbconvert_exporter": "python",
   "pygments_lexer": "ipython3",
   "version": "3.5.4"
  }
 },
 "nbformat": 4,
 "nbformat_minor": 1
}
